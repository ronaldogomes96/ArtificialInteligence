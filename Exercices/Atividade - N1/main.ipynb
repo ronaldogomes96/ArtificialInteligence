{
 "cells": [
  {
   "cell_type": "markdown",
   "id": "3f0cb133",
   "metadata": {},
   "source": [
    "# Parte 2 da 2ª Atividade da N1\n",
    "\n",
    "## Questão 1\n",
    "\n",
    "Com os dados abaixo(X e Y), implemente um modelo de regressão polinomial que melhor se ajuste aos dados, usar MSE e R²?\n",
    "X = [0, 1, 2, 3, 4, 5, 6, 7, 8, 9, 10, 11, 12, 13, 14].\n",
    "Y = [8, 9, 2, 23, 34, 12, 13, 17, 16, 20, 41, 34, 35, 66, 70]"
   ]
  },
  {
   "cell_type": "code",
   "execution_count": 51,
   "id": "dd7156ed",
   "metadata": {},
   "outputs": [],
   "source": [
    "import numpy as np\n",
    "import matplotlib.pyplot as plt\n",
    "from sklearn.metrics import r2_score\n",
    "from sklearn.metrics import mean_squared_error\n",
    "from sklearn.model_selection import cross_val_score, KFold\n",
    "from sklearn.model_selection import train_test_split"
   ]
  },
  {
   "cell_type": "code",
   "execution_count": 14,
   "id": "40dfeb2f",
   "metadata": {},
   "outputs": [
    {
     "data": {
      "text/plain": [
       "Text(0, 0.5, 'y')"
      ]
     },
     "execution_count": 14,
     "metadata": {},
     "output_type": "execute_result"
    },
    {
     "data": {
      "image/png": "[encoded data removed]",
      "text/plain": [
       "<Figure size 432x288 with 1 Axes>"
      ]
     },
     "metadata": {
      "needs_background": "light"
     },
     "output_type": "display_data"
    }
   ],
   "source": [
    "x = np.array([0, 1, 2, 3, 4, 5, 6, 7, 8, 9, 10, 11, 12, 13, 14])\n",
    "y = np.array([8, 9, 2, 23, 34, 12, 13, 17, 16, 20, 41, 34, 35, 66, 70])\n",
    "\n",
    "plt.plot(x, y, '*')\n",
    "plt.xlabel('x')\n",
    "plt.ylabel('y')"
   ]
  },
  {
   "cell_type": "code",
   "execution_count": 24,
   "id": "ef4d687b",
   "metadata": {},
   "outputs": [
    {
     "data": {
      "text/plain": [
       "array([[1.        , 0.80828187],\n",
       "       [0.80828187, 1.        ]])"
      ]
     },
     "execution_count": 24,
     "metadata": {},
     "output_type": "execute_result"
    }
   ],
   "source": [
    "# Correlação\n",
    "np.corrcoef(x,y)"
   ]
  },
  {
   "cell_type": "code",
   "execution_count": 7,
   "id": "bb6b9177",
   "metadata": {},
   "outputs": [
    {
     "data": {
      "text/plain": [
       "array([-2.04959514e-03,  6.89573906e-02, -7.25090795e-01,  2.53291210e+00,\n",
       "        7.62654799e-01,  6.27979876e+00])"
      ]
     },
     "execution_count": 7,
     "metadata": {},
     "output_type": "execute_result"
    }
   ],
   "source": [
    "# Treinamento do modelo de regressão polinomial, no caso achar o coeficiente de regressão\n",
    "coef = np.polyfit(x, y, 5) # Usando o grau (degree) 5\n",
    "coef"
   ]
  },
  {
   "cell_type": "code",
   "execution_count": 8,
   "id": "a09d0318",
   "metadata": {},
   "outputs": [
    {
     "data": {
      "text/plain": [
       "array([ 6.27979876,  8.91718266, 13.17376161, 16.87401762, 19.00550726,\n",
       "       19.47291022, 18.85207788, 18.14408192, 18.52926292, 21.12127888,\n",
       "       26.72115385, 35.57132651, 47.10969874, 59.72368421, 70.50425697])"
      ]
     },
     "execution_count": 8,
     "metadata": {},
     "output_type": "execute_result"
    }
   ],
   "source": [
    "# Predição (validação do modelo)\n",
    "y_predic = np.polyval(coef,x)\n",
    "\n",
    "# O objetivo é que os dados de resultado predizidos sejam o mais proximo possivel de y\n",
    "y_predic"
   ]
  },
  {
   "cell_type": "code",
   "execution_count": 15,
   "id": "8c811a43",
   "metadata": {},
   "outputs": [
    {
     "data": {
      "image/png": "[encoded data removed]",
      "text/plain": [
       "<Figure size 432x288 with 1 Axes>"
      ]
     },
     "metadata": {
      "needs_background": "light"
     },
     "output_type": "display_data"
    }
   ],
   "source": [
    "plt.plot(x,y,'*')\n",
    "plt.plot(x, y_predic, 'g--', label = 'Predição')\n",
    "plt.xlabel('x')\n",
    "plt.ylabel('y')\n",
    "plt.title('REGRESSÃO')\n",
    "plt.show()"
   ]
  },
  {
   "cell_type": "code",
   "execution_count": 18,
   "id": "de92cbf9",
   "metadata": {},
   "outputs": [
    {
     "data": {
      "text/plain": [
       "0.8464512475471241"
      ]
     },
     "execution_count": 18,
     "metadata": {},
     "output_type": "execute_result"
    }
   ],
   "source": [
    "# Medições dos scores - Quanto mais proximo de zero, melhor\n",
    "\n",
    "# R2\n",
    "r2_score = r2_score(y, y_predic)\n",
    "r2_score"
   ]
  },
  {
   "cell_type": "code",
   "execution_count": 21,
   "id": "b4a2bca7",
   "metadata": {},
   "outputs": [
    {
     "data": {
      "text/plain": [
       "7.6676013991962755"
      ]
     },
     "execution_count": 21,
     "metadata": {},
     "output_type": "execute_result"
    }
   ],
   "source": [
    "# Mean square error (erro quadratico medio)\n",
    "\n",
    "mse = mean_squared_error(y,y_predic)\n",
    "np.sqrt(mse)"
   ]
  },
  {
   "cell_type": "markdown",
   "id": "cf4f827a",
   "metadata": {},
   "source": [
    "# Questão 2 \n",
    "Faça o calculo das distancias de \"chebyshev\", \"manhatta\" e \"euclidana\" dos objetos A(1, 3, 4, 5, 10) e B(2, 11, 8, 9, 15)?"
   ]
  },
  {
   "cell_type": "code",
   "execution_count": 25,
   "id": "ed746189",
   "metadata": {},
   "outputs": [],
   "source": [
    "a = np.array([1, 3, 4, 5, 10])\n",
    "b = np.array([2, 11, 8, 9, 15])"
   ]
  },
  {
   "cell_type": "markdown",
   "id": "3fd9d7cc",
   "metadata": {},
   "source": [
    "### Chebyshev"
   ]
  },
  {
   "cell_type": "code",
   "execution_count": 34,
   "id": "87230e00",
   "metadata": {},
   "outputs": [
    {
     "data": {
      "text/plain": [
       "[1, 8, 4, 4, 5]"
      ]
     },
     "execution_count": 34,
     "metadata": {},
     "output_type": "execute_result"
    }
   ],
   "source": [
    "distance_list = []\n",
    "\n",
    "for index in range(len(a)):\n",
    "    distance_list.append(abs(a[index] - b[index]))\n",
    "\n",
    "distance_list"
   ]
  },
  {
   "cell_type": "code",
   "execution_count": 35,
   "id": "da3b65bb",
   "metadata": {},
   "outputs": [
    {
     "data": {
      "text/plain": [
       "8"
      ]
     },
     "execution_count": 35,
     "metadata": {},
     "output_type": "execute_result"
    }
   ],
   "source": [
    "max(distance_list)"
   ]
  },
  {
   "cell_type": "markdown",
   "id": "bd46dcb9",
   "metadata": {},
   "source": [
    "### Manhatta"
   ]
  },
  {
   "cell_type": "code",
   "execution_count": 36,
   "id": "ee0341ea",
   "metadata": {},
   "outputs": [
    {
     "data": {
      "text/plain": [
       "22"
      ]
     },
     "execution_count": 36,
     "metadata": {},
     "output_type": "execute_result"
    }
   ],
   "source": [
    "np.array(distance_list).sum()"
   ]
  },
  {
   "cell_type": "markdown",
   "id": "a9cd68ac",
   "metadata": {},
   "source": [
    "### Euclidana"
   ]
  },
  {
   "cell_type": "code",
   "execution_count": 37,
   "id": "7ec725f6",
   "metadata": {},
   "outputs": [
    {
     "data": {
      "text/plain": [
       "[1, 64, 16, 16, 25]"
      ]
     },
     "execution_count": 37,
     "metadata": {},
     "output_type": "execute_result"
    }
   ],
   "source": [
    "for index in range(len(distance_list)):\n",
    "    distance_list[index] = distance_list[index] ** 2\n",
    "\n",
    "distance_list"
   ]
  },
  {
   "cell_type": "code",
   "execution_count": 40,
   "id": "5da3afa2",
   "metadata": {},
   "outputs": [
    {
     "data": {
      "text/plain": [
       "122"
      ]
     },
     "execution_count": 40,
     "metadata": {},
     "output_type": "execute_result"
    }
   ],
   "source": [
    "euclidiana_list = np.array(distance_list).sum()\n",
    "euclidiana_list"
   ]
  },
  {
   "cell_type": "code",
   "execution_count": 43,
   "id": "5dc97376",
   "metadata": {},
   "outputs": [
    {
     "data": {
      "text/plain": [
       "11.045361017187261"
      ]
     },
     "execution_count": 43,
     "metadata": {},
     "output_type": "execute_result"
    }
   ],
   "source": [
    "euclidiana_list ** (1/2)"
   ]
  },
  {
   "cell_type": "markdown",
   "id": "f3818977",
   "metadata": {},
   "source": [
    "# Questão 3\n",
    "Usando a função  \"linspace\"  do numpy gere  500 dados igualmente espaçados de 0 a 10. \n",
    "Depois deixe os dados organizados usando o K-fold com K=5 e Hold-Out com 80% para treinamento e \n",
    "20% para testes."
   ]
  },
  {
   "cell_type": "code",
   "execution_count": 44,
   "id": "1e9ec992",
   "metadata": {},
   "outputs": [
    {
     "data": {
      "text/plain": [
       "array([ 0.        ,  0.02004008,  0.04008016,  0.06012024,  0.08016032,\n",
       "        0.1002004 ,  0.12024048,  0.14028056,  0.16032064,  0.18036072,\n",
       "        0.2004008 ,  0.22044088,  0.24048096,  0.26052104,  0.28056112,\n",
       "        0.3006012 ,  0.32064128,  0.34068136,  0.36072144,  0.38076152,\n",
       "        0.4008016 ,  0.42084168,  0.44088176,  0.46092184,  0.48096192,\n",
       "        0.501002  ,  0.52104208,  0.54108216,  0.56112224,  0.58116232,\n",
       "        0.6012024 ,  0.62124248,  0.64128257,  0.66132265,  0.68136273,\n",
       "        0.70140281,  0.72144289,  0.74148297,  0.76152305,  0.78156313,\n",
       "        0.80160321,  0.82164329,  0.84168337,  0.86172345,  0.88176353,\n",
       "        0.90180361,  0.92184369,  0.94188377,  0.96192385,  0.98196393,\n",
       "        1.00200401,  1.02204409,  1.04208417,  1.06212425,  1.08216433,\n",
       "        1.10220441,  1.12224449,  1.14228457,  1.16232465,  1.18236473,\n",
       "        1.20240481,  1.22244489,  1.24248497,  1.26252505,  1.28256513,\n",
       "        1.30260521,  1.32264529,  1.34268537,  1.36272545,  1.38276553,\n",
       "        1.40280561,  1.42284569,  1.44288577,  1.46292585,  1.48296593,\n",
       "        1.50300601,  1.52304609,  1.54308617,  1.56312625,  1.58316633,\n",
       "        1.60320641,  1.62324649,  1.64328657,  1.66332665,  1.68336673,\n",
       "        1.70340681,  1.72344689,  1.74348697,  1.76352705,  1.78356713,\n",
       "        1.80360721,  1.82364729,  1.84368737,  1.86372745,  1.88376754,\n",
       "        1.90380762,  1.9238477 ,  1.94388778,  1.96392786,  1.98396794,\n",
       "        2.00400802,  2.0240481 ,  2.04408818,  2.06412826,  2.08416834,\n",
       "        2.10420842,  2.1242485 ,  2.14428858,  2.16432866,  2.18436874,\n",
       "        2.20440882,  2.2244489 ,  2.24448898,  2.26452906,  2.28456914,\n",
       "        2.30460922,  2.3246493 ,  2.34468938,  2.36472946,  2.38476954,\n",
       "        2.40480962,  2.4248497 ,  2.44488978,  2.46492986,  2.48496994,\n",
       "        2.50501002,  2.5250501 ,  2.54509018,  2.56513026,  2.58517034,\n",
       "        2.60521042,  2.6252505 ,  2.64529058,  2.66533066,  2.68537074,\n",
       "        2.70541082,  2.7254509 ,  2.74549098,  2.76553106,  2.78557114,\n",
       "        2.80561122,  2.8256513 ,  2.84569138,  2.86573146,  2.88577154,\n",
       "        2.90581162,  2.9258517 ,  2.94589178,  2.96593186,  2.98597194,\n",
       "        3.00601202,  3.0260521 ,  3.04609218,  3.06613226,  3.08617234,\n",
       "        3.10621242,  3.12625251,  3.14629259,  3.16633267,  3.18637275,\n",
       "        3.20641283,  3.22645291,  3.24649299,  3.26653307,  3.28657315,\n",
       "        3.30661323,  3.32665331,  3.34669339,  3.36673347,  3.38677355,\n",
       "        3.40681363,  3.42685371,  3.44689379,  3.46693387,  3.48697395,\n",
       "        3.50701403,  3.52705411,  3.54709419,  3.56713427,  3.58717435,\n",
       "        3.60721443,  3.62725451,  3.64729459,  3.66733467,  3.68737475,\n",
       "        3.70741483,  3.72745491,  3.74749499,  3.76753507,  3.78757515,\n",
       "        3.80761523,  3.82765531,  3.84769539,  3.86773547,  3.88777555,\n",
       "        3.90781563,  3.92785571,  3.94789579,  3.96793587,  3.98797595,\n",
       "        4.00801603,  4.02805611,  4.04809619,  4.06813627,  4.08817635,\n",
       "        4.10821643,  4.12825651,  4.14829659,  4.16833667,  4.18837675,\n",
       "        4.20841683,  4.22845691,  4.24849699,  4.26853707,  4.28857715,\n",
       "        4.30861723,  4.32865731,  4.34869739,  4.36873747,  4.38877756,\n",
       "        4.40881764,  4.42885772,  4.4488978 ,  4.46893788,  4.48897796,\n",
       "        4.50901804,  4.52905812,  4.5490982 ,  4.56913828,  4.58917836,\n",
       "        4.60921844,  4.62925852,  4.6492986 ,  4.66933868,  4.68937876,\n",
       "        4.70941884,  4.72945892,  4.749499  ,  4.76953908,  4.78957916,\n",
       "        4.80961924,  4.82965932,  4.8496994 ,  4.86973948,  4.88977956,\n",
       "        4.90981964,  4.92985972,  4.9498998 ,  4.96993988,  4.98997996,\n",
       "        5.01002004,  5.03006012,  5.0501002 ,  5.07014028,  5.09018036,\n",
       "        5.11022044,  5.13026052,  5.1503006 ,  5.17034068,  5.19038076,\n",
       "        5.21042084,  5.23046092,  5.250501  ,  5.27054108,  5.29058116,\n",
       "        5.31062124,  5.33066132,  5.3507014 ,  5.37074148,  5.39078156,\n",
       "        5.41082164,  5.43086172,  5.4509018 ,  5.47094188,  5.49098196,\n",
       "        5.51102204,  5.53106212,  5.5511022 ,  5.57114228,  5.59118236,\n",
       "        5.61122244,  5.63126253,  5.65130261,  5.67134269,  5.69138277,\n",
       "        5.71142285,  5.73146293,  5.75150301,  5.77154309,  5.79158317,\n",
       "        5.81162325,  5.83166333,  5.85170341,  5.87174349,  5.89178357,\n",
       "        5.91182365,  5.93186373,  5.95190381,  5.97194389,  5.99198397,\n",
       "        6.01202405,  6.03206413,  6.05210421,  6.07214429,  6.09218437,\n",
       "        6.11222445,  6.13226453,  6.15230461,  6.17234469,  6.19238477,\n",
       "        6.21242485,  6.23246493,  6.25250501,  6.27254509,  6.29258517,\n",
       "        6.31262525,  6.33266533,  6.35270541,  6.37274549,  6.39278557,\n",
       "        6.41282565,  6.43286573,  6.45290581,  6.47294589,  6.49298597,\n",
       "        6.51302605,  6.53306613,  6.55310621,  6.57314629,  6.59318637,\n",
       "        6.61322645,  6.63326653,  6.65330661,  6.67334669,  6.69338677,\n",
       "        6.71342685,  6.73346693,  6.75350701,  6.77354709,  6.79358717,\n",
       "        6.81362725,  6.83366733,  6.85370741,  6.87374749,  6.89378758,\n",
       "        6.91382766,  6.93386774,  6.95390782,  6.9739479 ,  6.99398798,\n",
       "        7.01402806,  7.03406814,  7.05410822,  7.0741483 ,  7.09418838,\n",
       "        7.11422846,  7.13426854,  7.15430862,  7.1743487 ,  7.19438878,\n",
       "        7.21442886,  7.23446894,  7.25450902,  7.2745491 ,  7.29458918,\n",
       "        7.31462926,  7.33466934,  7.35470942,  7.3747495 ,  7.39478958,\n",
       "        7.41482966,  7.43486974,  7.45490982,  7.4749499 ,  7.49498998,\n",
       "        7.51503006,  7.53507014,  7.55511022,  7.5751503 ,  7.59519038,\n",
       "        7.61523046,  7.63527054,  7.65531062,  7.6753507 ,  7.69539078,\n",
       "        7.71543086,  7.73547094,  7.75551102,  7.7755511 ,  7.79559118,\n",
       "        7.81563126,  7.83567134,  7.85571142,  7.8757515 ,  7.89579158,\n",
       "        7.91583166,  7.93587174,  7.95591182,  7.9759519 ,  7.99599198,\n",
       "        8.01603206,  8.03607214,  8.05611222,  8.0761523 ,  8.09619238,\n",
       "        8.11623246,  8.13627255,  8.15631263,  8.17635271,  8.19639279,\n",
       "        8.21643287,  8.23647295,  8.25651303,  8.27655311,  8.29659319,\n",
       "        8.31663327,  8.33667335,  8.35671343,  8.37675351,  8.39679359,\n",
       "        8.41683367,  8.43687375,  8.45691383,  8.47695391,  8.49699399,\n",
       "        8.51703407,  8.53707415,  8.55711423,  8.57715431,  8.59719439,\n",
       "        8.61723447,  8.63727455,  8.65731463,  8.67735471,  8.69739479,\n",
       "        8.71743487,  8.73747495,  8.75751503,  8.77755511,  8.79759519,\n",
       "        8.81763527,  8.83767535,  8.85771543,  8.87775551,  8.89779559,\n",
       "        8.91783567,  8.93787575,  8.95791583,  8.97795591,  8.99799599,\n",
       "        9.01803607,  9.03807615,  9.05811623,  9.07815631,  9.09819639,\n",
       "        9.11823647,  9.13827655,  9.15831663,  9.17835671,  9.19839679,\n",
       "        9.21843687,  9.23847695,  9.25851703,  9.27855711,  9.29859719,\n",
       "        9.31863727,  9.33867735,  9.35871743,  9.37875752,  9.3987976 ,\n",
       "        9.41883768,  9.43887776,  9.45891784,  9.47895792,  9.498998  ,\n",
       "        9.51903808,  9.53907816,  9.55911824,  9.57915832,  9.5991984 ,\n",
       "        9.61923848,  9.63927856,  9.65931864,  9.67935872,  9.6993988 ,\n",
       "        9.71943888,  9.73947896,  9.75951904,  9.77955912,  9.7995992 ,\n",
       "        9.81963928,  9.83967936,  9.85971944,  9.87975952,  9.8997996 ,\n",
       "        9.91983968,  9.93987976,  9.95991984,  9.97995992, 10.        ])"
      ]
     },
     "execution_count": 44,
     "metadata": {},
     "output_type": "execute_result"
    }
   ],
   "source": [
    "data = np.linspace(0, 10, num=500)\n",
    "data"
   ]
  },
  {
   "cell_type": "markdown",
   "id": "d17ce4b8",
   "metadata": {},
   "source": [
    "### K-fold"
   ]
  },
  {
   "cell_type": "code",
   "execution_count": 49,
   "id": "4f3d0813",
   "metadata": {},
   "outputs": [
    {
     "data": {
      "text/plain": [
       "KFold(n_splits=5, random_state=None, shuffle=False)"
      ]
     },
     "execution_count": 49,
     "metadata": {},
     "output_type": "execute_result"
    }
   ],
   "source": [
    "cv = KFold(n_splits=5)\n",
    "cv"
   ]
  },
  {
   "cell_type": "markdown",
   "id": "66a42a76",
   "metadata": {},
   "source": [
    "### Hold-Out"
   ]
  },
  {
   "cell_type": "code",
   "execution_count": 52,
   "id": "c03dfb35",
   "metadata": {},
   "outputs": [],
   "source": [
    "data_train, data_test = train_test_split(data, test_size = 0.2, random_state = 0)"
   ]
  },
  {
   "cell_type": "code",
   "execution_count": 53,
   "id": "0d0e747a",
   "metadata": {},
   "outputs": [
    {
     "data": {
      "text/plain": [
       "array([ 2.14428858,  6.73346693,  1.42284569,  9.498998  ,  0.12024048,\n",
       "        8.25651303,  2.26452906,  4.72945892,  5.99198397,  3.10621242,\n",
       "        5.4509018 ,  0.14028056,  2.74549098,  0.16032064,  9.27855711,\n",
       "        8.65731463,  7.51503006,  5.69138277,  4.20841683,  3.76753507,\n",
       "        8.61723447,  0.98196393,  2.68537074,  7.31462926,  8.27655311,\n",
       "        4.78957916,  1.18236473,  8.13627255,  7.83567134,  8.23647295,\n",
       "        9.71943888,  4.58917836,  5.95190381,  1.10220441,  5.87174349,\n",
       "        9.81963928,  9.17835671,  9.15831663,  9.07815631,  3.72745491,\n",
       "        3.88777555,  1.04208417,  1.48296593,  0.52104208,  9.77955912,\n",
       "        0.08016032,  6.37274549,  6.63326653,  4.90981964,  0.1002004 ,\n",
       "        2.8256513 ,  7.6753507 ,  2.70541082,  9.87975952,  2.44488978,\n",
       "        0.44088176,  1.36272545,  0.4008016 ,  7.65531062,  0.28056112,\n",
       "        5.57114228,  4.50901804,  1.28256513,  7.63527054,  4.62925852,\n",
       "        1.62324649,  8.03607214,  6.05210421, 10.        ,  9.43887776,\n",
       "        9.11823647,  3.20641283,  9.57915832,  7.29458918,  9.93987976,\n",
       "        4.12825651,  6.39278557,  1.02204409,  6.13226453,  9.05811623,\n",
       "        6.65330661,  3.28657315,  2.1242485 ,  9.63927856,  1.26252505,\n",
       "        6.89378758,  8.55711423,  8.79759519,  6.41282565,  1.78356713,\n",
       "        6.25250501,  9.01803607,  1.86372745,  5.97194389,  9.19839679,\n",
       "        6.17234469,  7.91583166,  1.84368737,  0.36072144,  3.96793587,\n",
       "        2.90581162,  3.16633267,  3.00601202,  9.5991984 ,  3.34669339,\n",
       "        5.11022044,  4.60921844,  8.45691383,  1.32264529,  6.19238477,\n",
       "        5.07014028,  2.80561122,  2.0240481 ,  8.67735471,  0.04008016,\n",
       "        8.17635271,  0.34068136,  2.9258517 ,  4.98997996,  5.27054108,\n",
       "        0.6012024 ,  2.28456914,  4.9498998 ,  2.06412826,  8.11623246,\n",
       "        6.21242485,  3.52705411,  4.92985972,  2.3246493 ,  3.36673347,\n",
       "        8.31663327,  2.40480962,  5.23046092,  2.24448898,  7.21442886,\n",
       "        8.71743487,  5.65130261,  2.7254509 ,  3.80761523,  6.95390782,\n",
       "        3.62725451,  2.5250501 ,  5.63126253,  5.0501002 ,  8.15631263,\n",
       "        7.8757515 ,  7.09418838,  4.6492986 ,  2.66533066,  0.66132265,\n",
       "        9.53907816,  3.24649299,  0.68136273,  0.88176353,  1.94388778,\n",
       "        1.70340681,  1.22244489,  3.98797595,  5.37074148,  4.36873747,\n",
       "        1.46292585,  0.70140281,  6.07214429,  0.58116232,  7.23446894,\n",
       "        7.85571142,  8.87775551,  4.34869739,  0.54108216,  7.99599198,\n",
       "        7.61523046,  3.12625251,  8.59719439,  6.91382766,  2.76553106,\n",
       "        4.24849699,  2.08416834,  7.01402806,  6.93386774,  7.03406814,\n",
       "        4.30861723,  7.71543086,  3.78757515,  4.28857715,  4.08817635,\n",
       "        4.68937876,  5.19038076,  1.34268537,  0.48096192,  4.32865731,\n",
       "        4.46893788,  2.58517034,  2.2244489 ,  3.32665331,  8.35671343,\n",
       "        7.89579158,  0.80160321,  5.49098196,  7.15430862,  1.58316633,\n",
       "        6.27254509,  6.31262525,  0.26052104,  5.75150301,  8.19639279,\n",
       "        9.8997996 ,  4.56913828,  3.22645291,  1.66332665,  9.95991984,\n",
       "        9.47895792,  2.20440882,  2.98597194,  3.04609218,  0.32064128,\n",
       "        6.79358717,  2.18436874,  7.05410822,  2.78557114,  4.749499  ,\n",
       "        5.21042084,  8.39679359,  6.35270541,  9.91983968,  8.01603206,\n",
       "        4.96993988,  7.73547094,  0.38076152,  6.57314629,  5.93186373,\n",
       "        5.39078156,  4.52905812,  8.29659319,  0.06012024,  7.5751503 ,\n",
       "        2.50501002,  5.61122244,  5.73146293,  1.54308617,  3.68737475,\n",
       "        8.49699399,  9.55911824,  5.51102204,  5.89178357,  8.73747495,\n",
       "        3.64729459,  8.95791583,  1.60320641,  6.15230461,  5.17034068,\n",
       "        0.22044088,  7.43486974,  1.72344689,  5.33066132,  0.72144289,\n",
       "        9.61923848,  1.16232465,  0.82164329,  5.41082164,  1.00200401,\n",
       "        4.18837675,  7.95591182,  8.21643287,  8.33667335,  2.46492986,\n",
       "        4.4488978 ,  1.24248497,  7.55511022,  2.60521042,  3.74749499,\n",
       "        0.46092184,  0.86172345,  8.83767535,  0.        ,  4.02805611,\n",
       "        7.3747495 ,  8.53707415,  1.96392786,  6.99398798,  6.09218437,\n",
       "        9.75951904,  3.56713427,  7.39478958,  5.13026052,  1.88376754,\n",
       "        9.31863727,  1.90380762,  8.85771543,  3.38677355,  1.38276553,\n",
       "        6.11222445,  0.96192385,  6.83366733,  7.4749499 ,  4.14829659,\n",
       "        5.59118236,  4.5490982 ,  2.96593186,  2.86573146,  6.69338677,\n",
       "        3.60721443,  7.13426854,  2.6252505 ,  9.25851703,  9.97995992,\n",
       "        5.250501  ,  6.49298597,  4.06813627,  1.68336673,  2.4248497 ,\n",
       "        9.65931864,  8.69739479,  9.21843687,  9.09819639,  7.69539078,\n",
       "        1.82364729,  1.64328657,  5.3507014 ,  2.38476954,  7.1743487 ,\n",
       "        5.83166333,  1.14228457,  6.43286573,  5.1503006 ,  7.53507014,\n",
       "        8.93787575,  0.84168337,  2.10420842,  7.7755511 ,  9.35871743,\n",
       "        5.47094188,  8.89779559,  0.76152305,  7.79559118,  1.06212425,\n",
       "        8.41683367,  8.75751503,  2.56513026,  5.81162325,  0.56112224,\n",
       "        3.66733467,  7.41482966,  3.26653307,  3.0260521 ,  4.88977956,\n",
       "        4.04809619,  0.62124248,  0.64128257,  2.54509018,  3.70741483,\n",
       "        9.41883768,  8.99799599,  5.77154309,  8.47695391,  7.9759519 ,\n",
       "        9.13827655,  2.94589178,  5.71142285,  9.33867735,  3.54709419,\n",
       "        1.98396794,  6.77354709,  8.97795591,  8.63727455,  6.71342685,\n",
       "        3.94789579,  4.86973948,  9.29859719,  2.30460922,  8.09619238,\n",
       "        5.31062124,  1.44288577,  6.67334669,  0.501002  ,  3.30661323,\n",
       "        6.75350701,  9.67935872,  3.48697395,  9.73947896,  0.78156313,\n",
       "        3.86773547,  6.29258517,  7.93587174,  1.76352705,  9.45891784,\n",
       "        1.40280561,  1.74348697,  5.85170341,  4.8496994 ,  5.5511022 ,\n",
       "        4.22845691,  0.18036072,  7.19438878,  3.90781563,  5.03006012,\n",
       "        6.47294589,  3.84769539,  2.34468938,  0.94188377,  3.44689379])"
      ]
     },
     "execution_count": 53,
     "metadata": {},
     "output_type": "execute_result"
    }
   ],
   "source": [
    "data_train"
   ]
  },
  {
   "cell_type": "code",
   "execution_count": 54,
   "id": "7307dee3",
   "metadata": {},
   "outputs": [
    {
     "data": {
      "text/plain": [
       "array([1.80360721, 5.09018036, 5.67134269, 8.91783567, 9.23847695,\n",
       "       0.3006012 , 6.33266533, 9.7995992 , 3.18637275, 3.06613226,\n",
       "       4.82965932, 5.01002004, 7.81563126, 5.79158317, 3.42685371,\n",
       "       6.59318637, 9.37875752, 7.11422846, 3.08617234, 0.74148297,\n",
       "       4.10821643, 7.33466934, 4.80961924, 2.16432866, 0.90180361,\n",
       "       8.77755511, 0.42084168, 7.35470942, 1.9238477 , 4.66933868,\n",
       "       8.57715431, 2.36472946, 2.48496994, 3.82765531, 7.49498998,\n",
       "       9.85971944, 6.23246493, 9.03807615, 7.0741483 , 4.76953908,\n",
       "       6.45290581, 0.92184369, 8.0761523 , 4.42885772, 1.52304609,\n",
       "       0.02004008, 4.26853707, 6.51302605, 8.37675351, 2.04408818,\n",
       "       7.2745491 , 3.40681363, 6.87374749, 2.88577154, 2.64529058,\n",
       "       0.24048096, 6.55310621, 3.46693387, 4.48897796, 6.85370741,\n",
       "       1.56312625, 5.53106212, 7.75551102, 8.51703407, 6.03206413,\n",
       "       3.92785571, 0.2004008 , 9.3987976 , 5.43086172, 1.50300601,\n",
       "       2.84569138, 1.30260521, 6.81362725, 9.6993988 , 3.50701403,\n",
       "       7.25450902, 5.29058116, 2.00400802, 9.83967936, 5.91182365,\n",
       "       6.01202405, 4.70941884, 9.51903808, 4.38877756, 6.61322645,\n",
       "       6.53306613, 8.43687375, 3.14629259, 6.9739479 , 1.08216433,\n",
       "       4.40881764, 8.05611222, 7.59519038, 4.00801603, 3.58717435,\n",
       "       7.45490982, 1.12224449, 8.81763527, 1.20240481, 4.16833667])"
      ]
     },
     "execution_count": 54,
     "metadata": {},
     "output_type": "execute_result"
    }
   ],
   "source": [
    "data_test"
   ]
  },
  {
   "cell_type": "code",
   "execution_count": null,
   "id": "d281e8fc",
   "metadata": {},
   "outputs": [],
   "source": []
  }
 ],
 "metadata": {
  "kernelspec": {
   "display_name": "Python 3 (ipykernel)",
   "language": "python",
   "name": "python3"
  },
  "language_info": {
   "codemirror_mode": {
    "name": "ipython",
    "version": 3
   },
   "file_extension": ".py",
   "mimetype": "text/x-python",
   "name": "python",
   "nbconvert_exporter": "python",
   "pygments_lexer": "ipython3",
   "version": "3.9.12"
  }
 },
 "nbformat": 4,
 "nbformat_minor": 5
}
